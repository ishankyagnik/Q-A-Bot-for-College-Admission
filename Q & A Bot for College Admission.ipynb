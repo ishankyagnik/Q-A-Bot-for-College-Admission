{
 "cells": [
  {
   "cell_type": "code",
   "execution_count": 1,
   "id": "0d4e83d1",
   "metadata": {},
   "outputs": [
    {
     "name": "stdout",
     "output_type": "stream",
     "text": [
      "Welcome to College Admission Chatbot!\n",
      "How can I assist you today?\n",
      "You: admission_procedure\n",
      "Bot: The admission procedure includes filling out the online application form, submitting required documents, and attending an entrance exam or interview if applicable.\n",
      "You: admission_procedure\n",
      "Bot: To apply for admission, you need to complete the online application form and provide the necessary documents.\n",
      "You: exit\n",
      "Thank you for using College Admission Chatbot. Goodbye!\n"
     ]
    }
   ],
   "source": [
    "import random\n",
    "\n",
    "class AdmissionChatbot:\n",
    "    def __init__(self):\n",
    "        self.admission_faq = {\n",
    "            \"admission procedure\": [\"The admission procedure includes filling out the online application form, submitting required documents, and attending an entrance exam or interview if applicable.\",\n",
    "                                     \"To apply for admission, you need to complete the online application form and provide the necessary documents.\"],\n",
    "            \"admission requirements\": [\"To apply for admission, you need to have completed high school or equivalent education. You'll also need to submit transcripts, letters of recommendation, and standardized test scores.\",\n",
    "                                       \"The admission requirements include a high school diploma or equivalent, along with transcripts and standardized test scores.\"],\n",
    "            \"admission deadlines\": [\"Admission deadlines vary by program. It's important to check the specific deadlines for the program you're applying to on our website.\",\n",
    "                                    \"Please make sure to review the admission deadlines for your desired program on our website.\"],\n",
    "            # Add more FAQs as needed\n",
    "        }\n",
    "        self.error_responses = [\n",
    "            \"I'm sorry, I don't have the information you're looking for. Could you try rephrasing your question?\",\n",
    "            \"It seems I'm unable to assist with that. Can you ask something else?\",\n",
    "            \"I'm still learning and might not have an answer to that question. Please ask something else.\",\n",
    "        ]\n",
    "        self.context = None\n",
    "\n",
    "    def handle_query(self, query):\n",
    "        response = \"\"\n",
    "        if query.lower() in self.admission_faq:\n",
    "            response = random.choice(self.admission_faq[query.lower()])\n",
    "        elif self.context is not None:\n",
    "            response = f\"I'm sorry, I don't have information about '{query}'. However, based on our previous conversation, it seems you're interested in {self.context}. Is there anything specific you'd like to know about that?\"\n",
    "        else:\n",
    "            response = random.choice(self.error_responses)\n",
    "        return response\n",
    "\n",
    "    def start_chat(self):\n",
    "        print(\"Welcome to College Admission Chatbot!\")\n",
    "        print(\"How can I assist you today?\")\n",
    "\n",
    "        while True:\n",
    "            user_input = input(\"You: \").strip()\n",
    "            if user_input.lower() == \"exit\":\n",
    "                print(\"Thank you for using our College Admission Chatbot. Goodbye!\")\n",
    "                break\n",
    "            elif user_input.lower() == \"clear context\":\n",
    "                print(\"Context has been cleared.\")\n",
    "                self.context = None\n",
    "                continue\n",
    "            else:\n",
    "                responses = self.handle_query(user_input)\n",
    "                print(\"Bot:\", responses)\n",
    "                self.update_context(user_input)\n",
    "\n",
    "    def update_context(self, query):\n",
    "        self.context = query.lower()\n",
    "\n",
    "\n",
    "if __name__ == \"__main__\":\n",
    "    bot = AdmissionChatbot()\n",
    "    bot.start_chat()\n"
   ]
  },
  {
   "cell_type": "code",
   "execution_count": null,
   "id": "2b7be803",
   "metadata": {},
   "outputs": [],
   "source": []
  }
 ],
 "metadata": {
  "kernelspec": {
   "display_name": "Python 3 (ipykernel)",
   "language": "python",
   "name": "python3"
  },
  "language_info": {
   "codemirror_mode": {
    "name": "ipython",
    "version": 3
   },
   "file_extension": ".py",
   "mimetype": "text/x-python",
   "name": "python",
   "nbconvert_exporter": "python",
   "pygments_lexer": "ipython3",
   "version": "3.11.4"
  }
 },
 "nbformat": 4,
 "nbformat_minor": 5
}
